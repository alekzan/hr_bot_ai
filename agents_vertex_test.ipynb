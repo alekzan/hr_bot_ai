{
 "cells": [
  {
   "cell_type": "code",
   "execution_count": 1,
   "id": "b5a12b2d",
   "metadata": {},
   "outputs": [
    {
     "name": "stdout",
     "output_type": "stream",
     "text": [
      "Credenciales: None\n",
      "✅ Conectado al bucket: adk_hackathon_bucket\n"
     ]
    }
   ],
   "source": [
    "# Test Deployed Agent\n",
    "# New Session\n",
    "from dotenv import load_dotenv\n",
    "import os\n",
    "from vertexai import agent_engines\n",
    "import uuid\n",
    "from utils.utils import *\n",
    "\n",
    "load_dotenv()\n",
    "\n",
    "# Engine Models loaded from .env\n",
    "crm_stage_agent = os.getenv(\"CRM_STAGE_AGENT\")\n",
    "omni_stage_agent = os.getenv(\"OMNI_STAGE_AGENT\")\n",
    "\n",
    "# Get a handle to the existing engine\n",
    "remote_app = agent_engines.get(crm_stage_agent)\n"
   ]
  },
  {
   "cell_type": "code",
   "execution_count": 2,
   "id": "cd2fa497",
   "metadata": {},
   "outputs": [
    {
     "name": "stdout",
     "output_type": "stream",
     "text": [
      "Session ID: u_54e75a0c\n",
      "Session: 190976923407482880\n"
     ]
    }
   ],
   "source": [
    "# Initialize crm_stage_agent Engine. No initial session required.\n",
    "u_id = f\"u_{uuid.uuid4().hex[:8]}\"\n",
    "print(f'Session ID: {u_id}')\n",
    "\n",
    "remote_session = remote_app.create_session(\n",
    "    user_id=u_id,\n",
    "    #state=ready_state # Comment/Uncomment if session requires initial state\n",
    "    )\n",
    "print(\"Session:\", remote_session[\"id\"])"
   ]
  },
  {
   "cell_type": "code",
   "execution_count": 9,
   "id": "e3ec36b7",
   "metadata": {},
   "outputs": [
    {
     "name": "stdout",
     "output_type": "stream",
     "text": [
      "{'content': {'parts': [{'function_call': {'id': 'adk-bdce3b4e-6df5-4964-acdc-4fd64e508dea', 'args': {'agent_name': 'sequential_agent'}, 'name': 'transfer_to_agent'}}], 'role': 'model'}, 'usage_metadata': {'candidates_token_count': 11, 'candidates_tokens_details': [{'modality': 'TEXT', 'token_count': 11}], 'prompt_token_count': 1468, 'prompt_tokens_details': [{'modality': 'TEXT', 'token_count': 1468}], 'total_token_count': 1479, 'traffic_type': 'ON_DEMAND'}, 'invocation_id': 'e-98750d75-d51b-46b9-9eed-a5be50fac217', 'author': 'intake_agent', 'actions': {'state_delta': {}, 'artifact_delta': {}, 'requested_auth_configs': {}}, 'long_running_tool_ids': [], 'id': 'TIDf9zCn', 'timestamp': 1750551332.550369}\n",
      "{'content': {'parts': [{'function_response': {'id': 'adk-bdce3b4e-6df5-4964-acdc-4fd64e508dea', 'name': 'transfer_to_agent', 'response': {'result': None}}}], 'role': 'user'}, 'invocation_id': 'e-98750d75-d51b-46b9-9eed-a5be50fac217', 'author': 'intake_agent', 'actions': {'state_delta': {}, 'artifact_delta': {}, 'transfer_to_agent': 'sequential_agent', 'requested_auth_configs': {}}, 'id': 'oREprGqD', 'timestamp': 1750551333.145079}\n",
      "{'content': {'parts': [{'text': '```json\\n[\\n  {\\n    \"stage_number\": 1,\\n    \"stage_name\": \"Lead Qualification\",\\n    \"entry_condition\": \"A new lead is received through any channel (website, inquiry, etc.).\",\\n    \"brief_stage_goal\": \"Determine if the lead is genuinely interested in buying property and meets initial qualification criteria.\"\\n  },\\n  {\\n    \"stage_number\": 2,\\n    \"stage_name\": \"Appointment Scheduling\",\\n    \"entry_condition\": \"Lead is qualified and expresses interest in viewing properties.\",\\n    \"brief_stage_goal\": \"Schedule property viewings and appointments for qualified leads with available agents.\"\\n  },\\n  {\\n    \"stage_number\": 3,\\n    \"stage_name\": \"Property Viewing\",\\n    \"entry_condition\": \"An appointment has been scheduled and completed.\",\\n    \"brief_stage_goal\": \"The lead attends a viewing, after which the agent collects feedback and gauges interest.\"\\n  },\\n  {\\n    \"stage_number\": 4,\\n    \"stage_name\": \"Offer & Closing\",\\n    \"entry_condition\": \"Lead expresses serious interest after property viewing.\",\\n    \"brief_stage_goal\": \"Negotiate offer, finalize paperwork, and close the deal.\"\\n  }\\n]\\n```'}], 'role': 'model'}, 'usage_metadata': {'candidates_token_count': 288, 'candidates_tokens_details': [{'modality': 'TEXT', 'token_count': 288}], 'prompt_token_count': 1217, 'prompt_tokens_details': [{'modality': 'TEXT', 'token_count': 1217}], 'total_token_count': 1505, 'traffic_type': 'ON_DEMAND'}, 'invocation_id': 'e-98750d75-d51b-46b9-9eed-a5be50fac217', 'author': 'stage_designer_agent', 'actions': {'state_delta': {'stage_designer_agent_response': '```json\\n[\\n  {\\n    \"stage_number\": 1,\\n    \"stage_name\": \"Lead Qualification\",\\n    \"entry_condition\": \"A new lead is received through any channel (website, inquiry, etc.).\",\\n    \"brief_stage_goal\": \"Determine if the lead is genuinely interested in buying property and meets initial qualification criteria.\"\\n  },\\n  {\\n    \"stage_number\": 2,\\n    \"stage_name\": \"Appointment Scheduling\",\\n    \"entry_condition\": \"Lead is qualified and expresses interest in viewing properties.\",\\n    \"brief_stage_goal\": \"Schedule property viewings and appointments for qualified leads with available agents.\"\\n  },\\n  {\\n    \"stage_number\": 3,\\n    \"stage_name\": \"Property Viewing\",\\n    \"entry_condition\": \"An appointment has been scheduled and completed.\",\\n    \"brief_stage_goal\": \"The lead attends a viewing, after which the agent collects feedback and gauges interest.\"\\n  },\\n  {\\n    \"stage_number\": 4,\\n    \"stage_name\": \"Offer & Closing\",\\n    \"entry_condition\": \"Lead expresses serious interest after property viewing.\",\\n    \"brief_stage_goal\": \"Negotiate offer, finalize paperwork, and close the deal.\"\\n  }\\n]\\n```'}, 'artifact_delta': {}, 'requested_auth_configs': {}}, 'id': '4tGQakmz', 'timestamp': 1750551333.400558}\n",
      "{'content': {'parts': [{'text': '```json\\n[\\n  {\\n    \"stage_number\": 1,\\n    \"prompt\": \"You are an AI agent representing Casa Bonita Houses, a real estate agency in Guadalajara specializing in high-end residential properties. Your primary goal is to qualify new leads to increase property sales by focusing on scheduling viewings and appointments. In this stage, your specific goal is to determine if the lead is genuinely interested in buying property and meets initial qualification criteria. Start by introducing yourself as a representative of Casa Bonita Houses. Ask questions to assess the lead\\'s interest, budget, preferred property type (house or condo), and desired location in Guadalajara. Determine if they are pre-approved for a mortgage or have other financing in place. Based on their answers, categorize the lead as \\'Qualified\\' or \\'Not Qualified\\'. If qualified, briefly inform them of the next steps. If not qualified, thank them for their time and offer to keep them updated on future properties that might match their needs.\"\\n  },\\n  {\\n    \"stage_number\": 2,\\n    \"prompt\": \"You are an AI agent representing Casa Bonita Houses, a real estate agency in Guadalajara specializing in high-end residential properties. Your primary goal is to schedule viewings and appointments for qualified leads to increase property sales. In this stage, your specific goal is to schedule property viewings and appointments for qualified leads with available agents. Start by referencing their previous conversation and reaffirming their interest in viewing properties. Ask the lead about their availability for property viewings in the coming days/week. Present available time slots for viewings, considering the availability of Casa Bonita Houses agents who specialize in the lead\\'s preferred property type and location. Offer a selection of properties that match their criteria. Once a date, time, and property (or properties) are agreed upon, confirm the appointment details with the lead, including the address of the property, the name of the agent who will be showing the property, and any necessary instructions. Send a calendar invite. If no suitable times are available, offer to check with other agents or adjust the schedule and propose alternative times.\"\\n  },\\n  {\\n    \"stage_number\": 3,\\n    \"prompt\": \"You are an AI agent representing Casa Bonita Houses, a real estate agency in Guadalajara specializing in high-end residential properties. Your overall goal is to facilitate the closing of property sales. In this stage, you are designed to follow up with leads who have completed a property viewing, gather their feedback, and gauge their level of interest. Begin by referencing the property they viewed and thanking them for their time. Ask specific questions about their experience, such as what they liked and disliked about the property, and whether it met their expectations. Based on their feedback, determine their level of interest (e.g., \\'Very Interested,\\' \\'Interested,\\' \\'Neutral,\\' \\'Not Interested\\'). If they express interest, inquire about their readiness to make an offer or schedule a second viewing. If they are hesitant, address their concerns and provide additional information about the property or similar options. Log the feedback and interest level for the agent to review and determine the next course of action. If the lead is not interested, thank them for their time and offer to show them other properties that may be a better fit.\"\\n  },\\n  {\\n    \"stage_number\": 4,\\n    \"prompt\": \"You are an AI agent representing Casa Bonita Houses, a real estate agency in Guadalajara specializing in high-end residential properties. Your objective is to facilitate the offer and closing process for leads expressing serious interest in a property. Your goal in this stage is to assist in the negotiation, paperwork finalization, and closing of the deal. Begin by acknowledging the lead\\'s strong interest and reiterate the key features of the property. Ask if they have any outstanding questions or concerns. If they are ready to make an offer, guide them through the process, explaining the necessary paperwork and steps involved. If they have already submitted an offer, keep them updated on its status and any counter-offers from the seller. Facilitate communication between the lead and the Casa Bonita Houses agent to negotiate terms and reach an agreement. Once an agreement is reached, provide clear instructions on the final paperwork, deposits, and closing procedures. Congratulate the lead upon successful closing and offer assistance with any post-sale needs.\"\\n  }\\n]\\n```'}], 'role': 'model'}, 'usage_metadata': {'candidates_token_count': 897, 'candidates_tokens_details': [{'modality': 'TEXT', 'token_count': 897}], 'prompt_token_count': 1741, 'prompt_tokens_details': [{'modality': 'TEXT', 'token_count': 1741}], 'total_token_count': 2638, 'traffic_type': 'ON_DEMAND'}, 'invocation_id': 'e-98750d75-d51b-46b9-9eed-a5be50fac217', 'author': 'stage_agent_creator_agent', 'actions': {'state_delta': {'stage_agent_creator_agent_response': '```json\\n[\\n  {\\n    \"stage_number\": 1,\\n    \"prompt\": \"You are an AI agent representing Casa Bonita Houses, a real estate agency in Guadalajara specializing in high-end residential properties. Your primary goal is to qualify new leads to increase property sales by focusing on scheduling viewings and appointments. In this stage, your specific goal is to determine if the lead is genuinely interested in buying property and meets initial qualification criteria. Start by introducing yourself as a representative of Casa Bonita Houses. Ask questions to assess the lead\\'s interest, budget, preferred property type (house or condo), and desired location in Guadalajara. Determine if they are pre-approved for a mortgage or have other financing in place. Based on their answers, categorize the lead as \\'Qualified\\' or \\'Not Qualified\\'. If qualified, briefly inform them of the next steps. If not qualified, thank them for their time and offer to keep them updated on future properties that might match their needs.\"\\n  },\\n  {\\n    \"stage_number\": 2,\\n    \"prompt\": \"You are an AI agent representing Casa Bonita Houses, a real estate agency in Guadalajara specializing in high-end residential properties. Your primary goal is to schedule viewings and appointments for qualified leads to increase property sales. In this stage, your specific goal is to schedule property viewings and appointments for qualified leads with available agents. Start by referencing their previous conversation and reaffirming their interest in viewing properties. Ask the lead about their availability for property viewings in the coming days/week. Present available time slots for viewings, considering the availability of Casa Bonita Houses agents who specialize in the lead\\'s preferred property type and location. Offer a selection of properties that match their criteria. Once a date, time, and property (or properties) are agreed upon, confirm the appointment details with the lead, including the address of the property, the name of the agent who will be showing the property, and any necessary instructions. Send a calendar invite. If no suitable times are available, offer to check with other agents or adjust the schedule and propose alternative times.\"\\n  },\\n  {\\n    \"stage_number\": 3,\\n    \"prompt\": \"You are an AI agent representing Casa Bonita Houses, a real estate agency in Guadalajara specializing in high-end residential properties. Your overall goal is to facilitate the closing of property sales. In this stage, you are designed to follow up with leads who have completed a property viewing, gather their feedback, and gauge their level of interest. Begin by referencing the property they viewed and thanking them for their time. Ask specific questions about their experience, such as what they liked and disliked about the property, and whether it met their expectations. Based on their feedback, determine their level of interest (e.g., \\'Very Interested,\\' \\'Interested,\\' \\'Neutral,\\' \\'Not Interested\\'). If they express interest, inquire about their readiness to make an offer or schedule a second viewing. If they are hesitant, address their concerns and provide additional information about the property or similar options. Log the feedback and interest level for the agent to review and determine the next course of action. If the lead is not interested, thank them for their time and offer to show them other properties that may be a better fit.\"\\n  },\\n  {\\n    \"stage_number\": 4,\\n    \"prompt\": \"You are an AI agent representing Casa Bonita Houses, a real estate agency in Guadalajara specializing in high-end residential properties. Your objective is to facilitate the offer and closing process for leads expressing serious interest in a property. Your goal in this stage is to assist in the negotiation, paperwork finalization, and closing of the deal. Begin by acknowledging the lead\\'s strong interest and reiterate the key features of the property. Ask if they have any outstanding questions or concerns. If they are ready to make an offer, guide them through the process, explaining the necessary paperwork and steps involved. If they have already submitted an offer, keep them updated on its status and any counter-offers from the seller. Facilitate communication between the lead and the Casa Bonita Houses agent to negotiate terms and reach an agreement. Once an agreement is reached, provide clear instructions on the final paperwork, deposits, and closing procedures. Congratulate the lead upon successful closing and offer assistance with any post-sale needs.\"\\n  }\\n]\\n```'}, 'artifact_delta': {}, 'requested_auth_configs': {}}, 'id': 'nUguXjC0', 'timestamp': 1750551335.442081}\n",
      "{'content': {'parts': [{'text': '```json\\n[\\n  {\\n    \"stage_number\": 1,\\n    \"fields\": [\\n      \"Name\",\\n      \"Phone\",\\n      \"Email\",\\n      \"Requirements\",\\n      \"Notes\",\\n      \"Stage\"\\n    ],\\n    \"user_tags\": [\\n      \"human_required\"\\n    ]\\n  },\\n  {\\n    \"stage_number\": 2,\\n    \"fields\": [\\n      \"Name\",\\n      \"Phone\",\\n      \"Email\",\\n      \"Requirements\",\\n      \"Notes\",\\n      \"Stage\"\\n    ],\\n    \"user_tags\": [\\n      \"human_required\"\\n    ]\\n  },\\n  {\\n    \"stage_number\": 3,\\n    \"fields\": [\\n      \"Name\",\\n      \"Phone\",\\n      \"Email\",\\n      \"Requirements\",\\n      \"Notes\",\\n      \"Stage\"\\n    ],\\n    \"user_tags\": [\\n      \"human_required\"\\n    ]\\n  },\\n  {\\n    \"stage_number\": 4,\\n    \"fields\": [\\n      \"Name\",\\n      \"Phone\",\\n      \"Email\",\\n      \"Requirements\",\\n      \"Notes\",\\n      \"Stage\"\\n    ],\\n    \"user_tags\": [\\n      \"human_required\"\\n    ]\\n  }\\n]\\n```'}], 'role': 'model'}, 'usage_metadata': {'candidates_token_count': 300, 'candidates_tokens_details': [{'modality': 'TEXT', 'token_count': 300}], 'prompt_token_count': 3603, 'prompt_tokens_details': [{'modality': 'TEXT', 'token_count': 3603}], 'total_token_count': 3903, 'traffic_type': 'ON_DEMAND'}, 'invocation_id': 'e-98750d75-d51b-46b9-9eed-a5be50fac217', 'author': 'field_tag_selector_agent', 'actions': {'state_delta': {'field_tag_selector_agent_response': '```json\\n[\\n  {\\n    \"stage_number\": 1,\\n    \"fields\": [\\n      \"Name\",\\n      \"Phone\",\\n      \"Email\",\\n      \"Requirements\",\\n      \"Notes\",\\n      \"Stage\"\\n    ],\\n    \"user_tags\": [\\n      \"human_required\"\\n    ]\\n  },\\n  {\\n    \"stage_number\": 2,\\n    \"fields\": [\\n      \"Name\",\\n      \"Phone\",\\n      \"Email\",\\n      \"Requirements\",\\n      \"Notes\",\\n      \"Stage\"\\n    ],\\n    \"user_tags\": [\\n      \"human_required\"\\n    ]\\n  },\\n  {\\n    \"stage_number\": 3,\\n    \"fields\": [\\n      \"Name\",\\n      \"Phone\",\\n      \"Email\",\\n      \"Requirements\",\\n      \"Notes\",\\n      \"Stage\"\\n    ],\\n    \"user_tags\": [\\n      \"human_required\"\\n    ]\\n  },\\n  {\\n    \"stage_number\": 4,\\n    \"fields\": [\\n      \"Name\",\\n      \"Phone\",\\n      \"Email\",\\n      \"Requirements\",\\n      \"Notes\",\\n      \"Stage\"\\n    ],\\n    \"user_tags\": [\\n      \"human_required\"\\n    ]\\n  }\\n]\\n```'}, 'artifact_delta': {}, 'requested_auth_configs': {}}, 'id': 'xM34Jf4a', 'timestamp': 1750551340.812023}\n",
      "{'content': {'parts': [{'function_call': {'id': 'adk-99514a73-b5f8-4c88-8aca-882e0ca0c276', 'args': {'final_pipeline_data': {'intake_data': {'business_id': '168f9e2f-a8bd-47d6-b96c-7ccb2de0b1e2', 'biz_name': 'Casa Bonita Houses', 'goal': 'Increase property sales, with the AI agent focusing on scheduling viewings and appointments with interested leads.', 'biz_info': 'Real estate agency based in Guadalajara, focusing on residential property sales. Team of about 12 agents mainly working with high-end homes and condos in urban areas. Looking to automate lead handling to qualify leads faster and improve follow-ups to close more deals.', 'kb_files': []}, 'stage_design_results': {'stages': [{'prompt': \"You are an AI agent representing Casa Bonita Houses, a real estate agency in Guadalajara specializing in high-end residential properties. Your primary goal is to qualify new leads to increase property sales by focusing on scheduling viewings and appointments. In this stage, your specific goal is to determine if the lead is genuinely interested in buying property and meets initial qualification criteria. Start by introducing yourself as a representative of Casa Bonita Houses. Ask questions to assess the lead's interest, budget, preferred property type (house or condo), and desired location in Guadalajara. Determine if they are pre-approved for a mortgage or have other financing in place. Based on their answers, categorize the lead as 'Qualified' or 'Not Qualified'. If qualified, briefly inform them of the next steps. If not qualified, thank them for their time and offer to keep them updated on future properties that might match their needs.\", 'entry_condition': 'A new lead is received through any channel (website, inquiry, etc.).', 'user_tags': ['human_required'], 'fields': ['Name', 'Phone', 'Email', 'Requirements', 'Notes', 'Stage'], 'stage_number': 1, 'brief_stage_goal': 'Determine if the lead is genuinely interested in buying property and meets initial qualification criteria.', 'stage_name': 'Lead Qualification'}, {'prompt': \"You are an AI agent representing Casa Bonita Houses, a real estate agency in Guadalajara specializing in high-end residential properties. Your primary goal is to schedule viewings and appointments for qualified leads to increase property sales. In this stage, your specific goal is to schedule property viewings and appointments for qualified leads with available agents. Start by referencing their previous conversation and reaffirming their interest in viewing properties. Ask the lead about their availability for property viewings in the coming days/week. Present available time slots for viewings, considering the availability of Casa Bonita Houses agents who specialize in the lead's preferred property type and location. Offer a selection of properties that match their criteria. Once a date, time, and property (or properties) are agreed upon, confirm the appointment details with the lead, including the address of the property, the name of the agent who will be showing the property, and any necessary instructions. Send a calendar invite. If no suitable times are available, offer to check with other agents or adjust the schedule and propose alternative times.\", 'fields': ['Name', 'Phone', 'Email', 'Requirements', 'Notes', 'Stage'], 'stage_name': 'Appointment Scheduling', 'user_tags': ['human_required'], 'stage_number': 2, 'entry_condition': 'Lead is qualified and expresses interest in viewing properties.', 'brief_stage_goal': 'Schedule property viewings and appointments for qualified leads with available agents.'}, {'user_tags': ['human_required'], 'entry_condition': 'An appointment has been scheduled and completed.', 'prompt': \"You are an AI agent representing Casa Bonita Houses, a real estate agency in Guadalajara specializing in high-end residential properties. Your overall goal is to facilitate the closing of property sales. In this stage, you are designed to follow up with leads who have completed a property viewing, gather their feedback, and gauge their level of interest. Begin by referencing the property they viewed and thanking them for their time. Ask specific questions about their experience, such as what they liked and disliked about the property, and whether it met their expectations. Based on their feedback, determine their level of interest (e.g., 'Very Interested,' 'Interested,' 'Neutral,' 'Not Interested'). If they express interest, inquire about their readiness to make an offer or schedule a second viewing. If they are hesitant, address their concerns and provide additional information about the property or similar options. Log the feedback and interest level for the agent to review and determine the next course of action. If the lead is not interested, thank them for their time and offer to show them other properties that may be a better fit.\", 'stage_name': 'Property Viewing', 'fields': ['Name', 'Phone', 'Email', 'Requirements', 'Notes', 'Stage'], 'brief_stage_goal': 'The lead attends a viewing, after which the agent collects feedback and gauges interest.', 'stage_number': 3}, {'stage_name': 'Offer & Closing', 'fields': ['Name', 'Phone', 'Email', 'Requirements', 'Notes', 'Stage'], 'prompt': \"You are an AI agent representing Casa Bonita Houses, a real estate agency in Guadalajara specializing in high-end residential properties. Your objective is to facilitate the offer and closing process for leads expressing serious interest in a property. Your goal in this stage is to assist in the negotiation, paperwork finalization, and closing of the deal. Begin by acknowledging the lead's strong interest and reiterate the key features of the property. Ask if they have any outstanding questions or concerns. If they are ready to make an offer, guide them through the process, explaining the necessary paperwork and steps involved. If they have already submitted an offer, keep them updated on its status and any counter-offers from the seller. Facilitate communication between the lead and the Casa Bonita Houses agent to negotiate terms and reach an agreement. Once an agreement is reached, provide clear instructions on the final paperwork, deposits, and closing procedures. Congratulate the lead upon successful closing and offer assistance with any post-sale needs.\", 'stage_number': 4, 'entry_condition': 'Lead expresses serious interest after property viewing.', 'brief_stage_goal': 'Negotiate offer, finalize paperwork, and close the deal.', 'user_tags': ['human_required']}]}, 'pipeline_completed': True}}, 'name': 'assemble_final_pipeline'}}], 'role': 'model'}, 'usage_metadata': {'candidates_token_count': 1166, 'candidates_tokens_details': [{'modality': 'TEXT', 'token_count': 1166}], 'prompt_token_count': 4580, 'prompt_tokens_details': [{'modality': 'TEXT', 'token_count': 4580}], 'total_token_count': 5746, 'traffic_type': 'ON_DEMAND'}, 'invocation_id': 'e-98750d75-d51b-46b9-9eed-a5be50fac217', 'author': 'pipeline_assembler_agent', 'actions': {'state_delta': {}, 'artifact_delta': {}, 'requested_auth_configs': {}}, 'long_running_tool_ids': [], 'id': 'yp0Y9gxa', 'timestamp': 1750551342.681883}\n",
      "{'content': {'parts': [{'function_response': {'id': 'adk-99514a73-b5f8-4c88-8aca-882e0ca0c276', 'name': 'assemble_final_pipeline', 'response': {'status': 'success', 'message': 'Pipeline has been finalized.'}}}], 'role': 'user'}, 'invocation_id': 'e-98750d75-d51b-46b9-9eed-a5be50fac217', 'author': 'pipeline_assembler_agent', 'actions': {'state_delta': {'pipeline': {'intake_data': {'business_id': '168f9e2f-a8bd-47d6-b96c-7ccb2de0b1e2', 'biz_name': 'Casa Bonita Houses', 'goal': 'Increase property sales, with the AI agent focusing on scheduling viewings and appointments with interested leads.', 'biz_info': 'Real estate agency based in Guadalajara, focusing on residential property sales. Team of about 12 agents mainly working with high-end homes and condos in urban areas. Looking to automate lead handling to qualify leads faster and improve follow-ups to close more deals.', 'kb_files': []}, 'stage_design_results': {'stages': [{'prompt': \"You are an AI agent representing Casa Bonita Houses, a real estate agency in Guadalajara specializing in high-end residential properties. Your primary goal is to qualify new leads to increase property sales by focusing on scheduling viewings and appointments. In this stage, your specific goal is to determine if the lead is genuinely interested in buying property and meets initial qualification criteria. Start by introducing yourself as a representative of Casa Bonita Houses. Ask questions to assess the lead's interest, budget, preferred property type (house or condo), and desired location in Guadalajara. Determine if they are pre-approved for a mortgage or have other financing in place. Based on their answers, categorize the lead as 'Qualified' or 'Not Qualified'. If qualified, briefly inform them of the next steps. If not qualified, thank them for their time and offer to keep them updated on future properties that might match their needs.\", 'entry_condition': 'A new lead is received through any channel (website, inquiry, etc.).', 'user_tags': ['human_required'], 'fields': ['Name', 'Phone', 'Email', 'Requirements', 'Notes', 'Stage'], 'stage_number': 1, 'brief_stage_goal': 'Determine if the lead is genuinely interested in buying property and meets initial qualification criteria.', 'stage_name': 'Lead Qualification'}, {'prompt': \"You are an AI agent representing Casa Bonita Houses, a real estate agency in Guadalajara specializing in high-end residential properties. Your primary goal is to schedule viewings and appointments for qualified leads to increase property sales. In this stage, your specific goal is to schedule property viewings and appointments for qualified leads with available agents. Start by referencing their previous conversation and reaffirming their interest in viewing properties. Ask the lead about their availability for property viewings in the coming days/week. Present available time slots for viewings, considering the availability of Casa Bonita Houses agents who specialize in the lead's preferred property type and location. Offer a selection of properties that match their criteria. Once a date, time, and property (or properties) are agreed upon, confirm the appointment details with the lead, including the address of the property, the name of the agent who will be showing the property, and any necessary instructions. Send a calendar invite. If no suitable times are available, offer to check with other agents or adjust the schedule and propose alternative times.\", 'fields': ['Name', 'Phone', 'Email', 'Requirements', 'Notes', 'Stage'], 'stage_name': 'Appointment Scheduling', 'user_tags': ['human_required'], 'stage_number': 2, 'entry_condition': 'Lead is qualified and expresses interest in viewing properties.', 'brief_stage_goal': 'Schedule property viewings and appointments for qualified leads with available agents.'}, {'user_tags': ['human_required'], 'entry_condition': 'An appointment has been scheduled and completed.', 'prompt': \"You are an AI agent representing Casa Bonita Houses, a real estate agency in Guadalajara specializing in high-end residential properties. Your overall goal is to facilitate the closing of property sales. In this stage, you are designed to follow up with leads who have completed a property viewing, gather their feedback, and gauge their level of interest. Begin by referencing the property they viewed and thanking them for their time. Ask specific questions about their experience, such as what they liked and disliked about the property, and whether it met their expectations. Based on their feedback, determine their level of interest (e.g., 'Very Interested,' 'Interested,' 'Neutral,' 'Not Interested'). If they express interest, inquire about their readiness to make an offer or schedule a second viewing. If they are hesitant, address their concerns and provide additional information about the property or similar options. Log the feedback and interest level for the agent to review and determine the next course of action. If the lead is not interested, thank them for their time and offer to show them other properties that may be a better fit.\", 'stage_name': 'Property Viewing', 'fields': ['Name', 'Phone', 'Email', 'Requirements', 'Notes', 'Stage'], 'brief_stage_goal': 'The lead attends a viewing, after which the agent collects feedback and gauges interest.', 'stage_number': 3}, {'stage_name': 'Offer & Closing', 'fields': ['Name', 'Phone', 'Email', 'Requirements', 'Notes', 'Stage'], 'prompt': \"You are an AI agent representing Casa Bonita Houses, a real estate agency in Guadalajara specializing in high-end residential properties. Your objective is to facilitate the offer and closing process for leads expressing serious interest in a property. Your goal in this stage is to assist in the negotiation, paperwork finalization, and closing of the deal. Begin by acknowledging the lead's strong interest and reiterate the key features of the property. Ask if they have any outstanding questions or concerns. If they are ready to make an offer, guide them through the process, explaining the necessary paperwork and steps involved. If they have already submitted an offer, keep them updated on its status and any counter-offers from the seller. Facilitate communication between the lead and the Casa Bonita Houses agent to negotiate terms and reach an agreement. Once an agreement is reached, provide clear instructions on the final paperwork, deposits, and closing procedures. Congratulate the lead upon successful closing and offer assistance with any post-sale needs.\", 'stage_number': 4, 'entry_condition': 'Lead expresses serious interest after property viewing.', 'brief_stage_goal': 'Negotiate offer, finalize paperwork, and close the deal.', 'user_tags': ['human_required']}]}, 'pipeline_completed': True}}, 'artifact_delta': {}, 'requested_auth_configs': {}}, 'id': 'IMrWgiQP', 'timestamp': 1750551348.9187}\n",
      "{'content': {'parts': [{'text': 'The CRM pipeline has been successfully assembled and is now complete and ready to use.\\n'}], 'role': 'model'}, 'usage_metadata': {'candidates_token_count': 17, 'candidates_tokens_details': [{'modality': 'TEXT', 'token_count': 17}], 'prompt_token_count': 6934, 'prompt_tokens_details': [{'modality': 'TEXT', 'token_count': 6934}], 'total_token_count': 6951, 'traffic_type': 'ON_DEMAND'}, 'invocation_id': 'e-98750d75-d51b-46b9-9eed-a5be50fac217', 'author': 'pipeline_assembler_agent', 'actions': {'state_delta': {'pipeline_assembler_agent': 'The CRM pipeline has been successfully assembled and is now complete and ready to use.\\n'}, 'artifact_delta': {}, 'requested_auth_configs': {}}, 'id': 'iwxeBTkc', 'timestamp': 1750551349.147473}\n"
     ]
    }
   ],
   "source": [
    "# Interact with CRM Stage Agent\n",
    "user_query_test = input('YOU: ')\n",
    "for event in remote_app.stream_query(\n",
    "    user_id= remote_session[\"userId\"],\n",
    "    session_id= remote_session[\"id\"],\n",
    "    message=user_query_test,\n",
    "):\n",
    "    print(event)"
   ]
  },
  {
   "cell_type": "code",
   "execution_count": 7,
   "id": "1c2d45f7",
   "metadata": {},
   "outputs": [
    {
     "name": "stdout",
     "output_type": "stream",
     "text": [
      "✅ Subido: /Users/alex/Projects/Auto Flujo/Apps/AI Agents/hackathon_data/Medexa Dental Profile.pdf → gs://adk_hackathon_bucket/crm_demo/Medexa Dental Profile.pdf\n",
      "Creating new RAG Corpus for u_490ee23f...\n",
      "Successfully created corpus: projects/49793268080/locations/us-central1/ragCorpora/3819052484010180608\n",
      "Started import of gs://adk_hackathon_bucket/crm_demo/Medexa Dental Profile.pdf into corpus projects/49793268080/locations/us-central1/ragCorpora/3819052484010180608. Response: imported_rag_files_count: 1\n",
      "\n",
      "✅ Session 1871945484323520512 patched with uploads & rag_corpus\n"
     ]
    }
   ],
   "source": [
    "# UPLOAD FILE FUNCION\n",
    "# Use it if the user uploads a document, to add it to the data bucket in GCS\n",
    "#from utils.utils import *\n",
    "local_file = \"/Users/alex/Projects/Auto Flujo/Apps/AI Agents/hackathon_data/Medexa Dental Profile.pdf\"\n",
    "\n",
    "\n",
    "await handle_upload_and_patch_state(crm_stage_agent,\n",
    "                                    local_file,                                     \n",
    "                                    user_id= remote_session[\"userId\"], \n",
    "                                    session_id= remote_session[\"id\"], \n",
    "                                    )"
   ]
  },
  {
   "cell_type": "code",
   "execution_count": 10,
   "id": "0184d5eb",
   "metadata": {},
   "outputs": [
    {
     "name": "stdout",
     "output_type": "stream",
     "text": [
      "Top-level keys in state: ['pipeline_assembler_agent', 'stage_designer_agent_response', 'intake_completed', 'field_tag_selector_agent_response', 'pipeline', 'stage_agent_creator_agent_response']\n",
      "Pipeline Completed Status: True\n"
     ]
    }
   ],
   "source": [
    "# The backend system must check if the pipeline is completed before continuing with the CRM building process\n",
    "remote_session_state = remote_app.get_session(\n",
    "    user_id = remote_session[\"userId\"],\n",
    "    session_id = remote_session[\"id\"],\n",
    ")\n",
    "\n",
    "intake_state = remote_session_state['state']\n",
    "is_pipeline_complete = remote_session_state.get('state', {}).get('pipeline', {}).get('pipeline_completed',False)\n",
    "\n",
    "print(f\"Top-level keys in state: {list(intake_state.keys())}\")\n",
    "print(f'Pipeline Completed Status: {is_pipeline_complete}')\n",
    "\n",
    "# If the pipeline is completed, it will return True, otherwise False."
   ]
  },
  {
   "cell_type": "code",
   "execution_count": 14,
   "id": "cd973861",
   "metadata": {},
   "outputs": [
    {
     "data": {
      "text/plain": [
       "{'pipeline_assembler_agent': 'The CRM pipeline has been successfully assembled and is now complete and ready to use.\\n',\n",
       " 'stage_designer_agent_response': '```json\\n[\\n  {\\n    \"stage_number\": 1,\\n    \"stage_name\": \"Lead Qualification\",\\n    \"entry_condition\": \"A new lead is received through any channel (website, inquiry, etc.).\",\\n    \"brief_stage_goal\": \"Determine if the lead is genuinely interested in buying property and meets initial qualification criteria.\"\\n  },\\n  {\\n    \"stage_number\": 2,\\n    \"stage_name\": \"Appointment Scheduling\",\\n    \"entry_condition\": \"Lead is qualified and expresses interest in viewing properties.\",\\n    \"brief_stage_goal\": \"Schedule property viewings and appointments for qualified leads with available agents.\"\\n  },\\n  {\\n    \"stage_number\": 3,\\n    \"stage_name\": \"Property Viewing\",\\n    \"entry_condition\": \"An appointment has been scheduled and completed.\",\\n    \"brief_stage_goal\": \"The lead attends a viewing, after which the agent collects feedback and gauges interest.\"\\n  },\\n  {\\n    \"stage_number\": 4,\\n    \"stage_name\": \"Offer & Closing\",\\n    \"entry_condition\": \"Lead expresses serious interest after property viewing.\",\\n    \"brief_stage_goal\": \"Negotiate offer, finalize paperwork, and close the deal.\"\\n  }\\n]\\n```',\n",
       " 'intake_completed': False,\n",
       " 'field_tag_selector_agent_response': '```json\\n[\\n  {\\n    \"stage_number\": 1,\\n    \"fields\": [\\n      \"Name\",\\n      \"Phone\",\\n      \"Email\",\\n      \"Requirements\",\\n      \"Notes\",\\n      \"Stage\"\\n    ],\\n    \"user_tags\": [\\n      \"human_required\"\\n    ]\\n  },\\n  {\\n    \"stage_number\": 2,\\n    \"fields\": [\\n      \"Name\",\\n      \"Phone\",\\n      \"Email\",\\n      \"Requirements\",\\n      \"Notes\",\\n      \"Stage\"\\n    ],\\n    \"user_tags\": [\\n      \"human_required\"\\n    ]\\n  },\\n  {\\n    \"stage_number\": 3,\\n    \"fields\": [\\n      \"Name\",\\n      \"Phone\",\\n      \"Email\",\\n      \"Requirements\",\\n      \"Notes\",\\n      \"Stage\"\\n    ],\\n    \"user_tags\": [\\n      \"human_required\"\\n    ]\\n  },\\n  {\\n    \"stage_number\": 4,\\n    \"fields\": [\\n      \"Name\",\\n      \"Phone\",\\n      \"Email\",\\n      \"Requirements\",\\n      \"Notes\",\\n      \"Stage\"\\n    ],\\n    \"user_tags\": [\\n      \"human_required\"\\n    ]\\n  }\\n]\\n```',\n",
       " 'pipeline': {'pipeline_completed': True,\n",
       "  'stage_design_results': {'stages': [{'brief_stage_goal': 'Determine if the lead is genuinely interested in buying property and meets initial qualification criteria.',\n",
       "     'prompt': \"You are an AI agent representing Casa Bonita Houses, a real estate agency in Guadalajara specializing in high-end residential properties. Your primary goal is to qualify new leads to increase property sales by focusing on scheduling viewings and appointments. In this stage, your specific goal is to determine if the lead is genuinely interested in buying property and meets initial qualification criteria. Start by introducing yourself as a representative of Casa Bonita Houses. Ask questions to assess the lead's interest, budget, preferred property type (house or condo), and desired location in Guadalajara. Determine if they are pre-approved for a mortgage or have other financing in place. Based on their answers, categorize the lead as 'Qualified' or 'Not Qualified'. If qualified, briefly inform them of the next steps. If not qualified, thank them for their time and offer to keep them updated on future properties that might match their needs.\",\n",
       "     'user_tags': ['human_required'],\n",
       "     'stage_name': 'Lead Qualification',\n",
       "     'entry_condition': 'A new lead is received through any channel (website, inquiry, etc.).',\n",
       "     'fields': ['Name', 'Phone', 'Email', 'Requirements', 'Notes', 'Stage'],\n",
       "     'stage_number': 1.0},\n",
       "    {'prompt': \"You are an AI agent representing Casa Bonita Houses, a real estate agency in Guadalajara specializing in high-end residential properties. Your primary goal is to schedule viewings and appointments for qualified leads to increase property sales. In this stage, your specific goal is to schedule property viewings and appointments for qualified leads with available agents. Start by referencing their previous conversation and reaffirming their interest in viewing properties. Ask the lead about their availability for property viewings in the coming days/week. Present available time slots for viewings, considering the availability of Casa Bonita Houses agents who specialize in the lead's preferred property type and location. Offer a selection of properties that match their criteria. Once a date, time, and property (or properties) are agreed upon, confirm the appointment details with the lead, including the address of the property, the name of the agent who will be showing the property, and any necessary instructions. Send a calendar invite. If no suitable times are available, offer to check with other agents or adjust the schedule and propose alternative times.\",\n",
       "     'brief_stage_goal': 'Schedule property viewings and appointments for qualified leads with available agents.',\n",
       "     'user_tags': ['human_required'],\n",
       "     'stage_name': 'Appointment Scheduling',\n",
       "     'entry_condition': 'Lead is qualified and expresses interest in viewing properties.',\n",
       "     'fields': ['Name', 'Phone', 'Email', 'Requirements', 'Notes', 'Stage'],\n",
       "     'stage_number': 2.0},\n",
       "    {'brief_stage_goal': 'The lead attends a viewing, after which the agent collects feedback and gauges interest.',\n",
       "     'prompt': \"You are an AI agent representing Casa Bonita Houses, a real estate agency in Guadalajara specializing in high-end residential properties. Your overall goal is to facilitate the closing of property sales. In this stage, you are designed to follow up with leads who have completed a property viewing, gather their feedback, and gauge their level of interest. Begin by referencing the property they viewed and thanking them for their time. Ask specific questions about their experience, such as what they liked and disliked about the property, and whether it met their expectations. Based on their feedback, determine their level of interest (e.g., 'Very Interested,' 'Interested,' 'Neutral,' 'Not Interested'). If they express interest, inquire about their readiness to make an offer or schedule a second viewing. If they are hesitant, address their concerns and provide additional information about the property or similar options. Log the feedback and interest level for the agent to review and determine the next course of action. If the lead is not interested, thank them for their time and offer to show them other properties that may be a better fit.\",\n",
       "     'user_tags': ['human_required'],\n",
       "     'stage_name': 'Property Viewing',\n",
       "     'entry_condition': 'An appointment has been scheduled and completed.',\n",
       "     'fields': ['Name', 'Phone', 'Email', 'Requirements', 'Notes', 'Stage'],\n",
       "     'stage_number': 3.0},\n",
       "    {'prompt': \"You are an AI agent representing Casa Bonita Houses, a real estate agency in Guadalajara specializing in high-end residential properties. Your objective is to facilitate the offer and closing process for leads expressing serious interest in a property. Your goal in this stage is to assist in the negotiation, paperwork finalization, and closing of the deal. Begin by acknowledging the lead's strong interest and reiterate the key features of the property. Ask if they have any outstanding questions or concerns. If they are ready to make an offer, guide them through the process, explaining the necessary paperwork and steps involved. If they have already submitted an offer, keep them updated on its status and any counter-offers from the seller. Facilitate communication between the lead and the Casa Bonita Houses agent to negotiate terms and reach an agreement. Once an agreement is reached, provide clear instructions on the final paperwork, deposits, and closing procedures. Congratulate the lead upon successful closing and offer assistance with any post-sale needs.\",\n",
       "     'brief_stage_goal': 'Negotiate offer, finalize paperwork, and close the deal.',\n",
       "     'user_tags': ['human_required'],\n",
       "     'stage_name': 'Offer & Closing',\n",
       "     'entry_condition': 'Lead expresses serious interest after property viewing.',\n",
       "     'fields': ['Name', 'Phone', 'Email', 'Requirements', 'Notes', 'Stage'],\n",
       "     'stage_number': 4.0}]},\n",
       "  'intake_data': {'business_id': '168f9e2f-a8bd-47d6-b96c-7ccb2de0b1e2',\n",
       "   'kb_files': [],\n",
       "   'biz_name': 'Casa Bonita Houses',\n",
       "   'biz_info': 'Real estate agency based in Guadalajara, focusing on residential property sales. Team of about 12 agents mainly working with high-end homes and condos in urban areas. Looking to automate lead handling to qualify leads faster and improve follow-ups to close more deals.',\n",
       "   'goal': 'Increase property sales, with the AI agent focusing on scheduling viewings and appointments with interested leads.'}},\n",
       " 'stage_agent_creator_agent_response': '```json\\n[\\n  {\\n    \"stage_number\": 1,\\n    \"prompt\": \"You are an AI agent representing Casa Bonita Houses, a real estate agency in Guadalajara specializing in high-end residential properties. Your primary goal is to qualify new leads to increase property sales by focusing on scheduling viewings and appointments. In this stage, your specific goal is to determine if the lead is genuinely interested in buying property and meets initial qualification criteria. Start by introducing yourself as a representative of Casa Bonita Houses. Ask questions to assess the lead\\'s interest, budget, preferred property type (house or condo), and desired location in Guadalajara. Determine if they are pre-approved for a mortgage or have other financing in place. Based on their answers, categorize the lead as \\'Qualified\\' or \\'Not Qualified\\'. If qualified, briefly inform them of the next steps. If not qualified, thank them for their time and offer to keep them updated on future properties that might match their needs.\"\\n  },\\n  {\\n    \"stage_number\": 2,\\n    \"prompt\": \"You are an AI agent representing Casa Bonita Houses, a real estate agency in Guadalajara specializing in high-end residential properties. Your primary goal is to schedule viewings and appointments for qualified leads to increase property sales. In this stage, your specific goal is to schedule property viewings and appointments for qualified leads with available agents. Start by referencing their previous conversation and reaffirming their interest in viewing properties. Ask the lead about their availability for property viewings in the coming days/week. Present available time slots for viewings, considering the availability of Casa Bonita Houses agents who specialize in the lead\\'s preferred property type and location. Offer a selection of properties that match their criteria. Once a date, time, and property (or properties) are agreed upon, confirm the appointment details with the lead, including the address of the property, the name of the agent who will be showing the property, and any necessary instructions. Send a calendar invite. If no suitable times are available, offer to check with other agents or adjust the schedule and propose alternative times.\"\\n  },\\n  {\\n    \"stage_number\": 3,\\n    \"prompt\": \"You are an AI agent representing Casa Bonita Houses, a real estate agency in Guadalajara specializing in high-end residential properties. Your overall goal is to facilitate the closing of property sales. In this stage, you are designed to follow up with leads who have completed a property viewing, gather their feedback, and gauge their level of interest. Begin by referencing the property they viewed and thanking them for their time. Ask specific questions about their experience, such as what they liked and disliked about the property, and whether it met their expectations. Based on their feedback, determine their level of interest (e.g., \\'Very Interested,\\' \\'Interested,\\' \\'Neutral,\\' \\'Not Interested\\'). If they express interest, inquire about their readiness to make an offer or schedule a second viewing. If they are hesitant, address their concerns and provide additional information about the property or similar options. Log the feedback and interest level for the agent to review and determine the next course of action. If the lead is not interested, thank them for their time and offer to show them other properties that may be a better fit.\"\\n  },\\n  {\\n    \"stage_number\": 4,\\n    \"prompt\": \"You are an AI agent representing Casa Bonita Houses, a real estate agency in Guadalajara specializing in high-end residential properties. Your objective is to facilitate the offer and closing process for leads expressing serious interest in a property. Your goal in this stage is to assist in the negotiation, paperwork finalization, and closing of the deal. Begin by acknowledging the lead\\'s strong interest and reiterate the key features of the property. Ask if they have any outstanding questions or concerns. If they are ready to make an offer, guide them through the process, explaining the necessary paperwork and steps involved. If they have already submitted an offer, keep them updated on its status and any counter-offers from the seller. Facilitate communication between the lead and the Casa Bonita Houses agent to negotiate terms and reach an agreement. Once an agreement is reached, provide clear instructions on the final paperwork, deposits, and closing procedures. Congratulate the lead upon successful closing and offer assistance with any post-sale needs.\"\\n  }\\n]\\n```'}"
      ]
     },
     "execution_count": 14,
     "metadata": {},
     "output_type": "execute_result"
    }
   ],
   "source": [
    "intake_state"
   ]
  },
  {
   "cell_type": "code",
   "execution_count": 18,
   "id": "2131bc68",
   "metadata": {},
   "outputs": [
    {
     "name": "stdout",
     "output_type": "stream",
     "text": [
      "rag_corpus\n",
      "uploaded_docs[0].gcs_uri\n",
      "uploaded_docs[0].filename\n",
      "stage_designer_agent_response\n",
      "pipeline_assembler_agent\n",
      "pipeline.pipeline_completed\n",
      "pipeline.stage_design_results.stages[0].brief_stage_goal\n",
      "pipeline.stage_design_results.stages[0].prompt\n",
      "pipeline.stage_design_results.stages[0].user_tags[0]\n",
      "pipeline.stage_design_results.stages[0].stage_name\n",
      "pipeline.stage_design_results.stages[0].entry_condition\n",
      "pipeline.stage_design_results.stages[0].fields[0]\n",
      "pipeline.stage_design_results.stages[0].fields[1]\n",
      "pipeline.stage_design_results.stages[0].fields[2]\n",
      "pipeline.stage_design_results.stages[0].fields[3]\n",
      "pipeline.stage_design_results.stages[0].fields[4]\n",
      "pipeline.stage_design_results.stages[0].fields[5]\n",
      "pipeline.stage_design_results.stages[0].stage_number\n",
      "pipeline.stage_design_results.stages[1].brief_stage_goal\n",
      "pipeline.stage_design_results.stages[1].prompt\n",
      "pipeline.stage_design_results.stages[1].user_tags[0]\n",
      "pipeline.stage_design_results.stages[1].stage_name\n",
      "pipeline.stage_design_results.stages[1].entry_condition\n",
      "pipeline.stage_design_results.stages[1].fields[0]\n",
      "pipeline.stage_design_results.stages[1].fields[1]\n",
      "pipeline.stage_design_results.stages[1].fields[2]\n",
      "pipeline.stage_design_results.stages[1].fields[3]\n",
      "pipeline.stage_design_results.stages[1].fields[4]\n",
      "pipeline.stage_design_results.stages[1].fields[5]\n",
      "pipeline.stage_design_results.stages[1].stage_number\n",
      "pipeline.stage_design_results.stages[2].prompt\n",
      "pipeline.stage_design_results.stages[2].brief_stage_goal\n",
      "pipeline.stage_design_results.stages[2].user_tags[0]\n",
      "pipeline.stage_design_results.stages[2].stage_name\n",
      "pipeline.stage_design_results.stages[2].entry_condition\n",
      "pipeline.stage_design_results.stages[2].fields[0]\n",
      "pipeline.stage_design_results.stages[2].fields[1]\n",
      "pipeline.stage_design_results.stages[2].fields[2]\n",
      "pipeline.stage_design_results.stages[2].fields[3]\n",
      "pipeline.stage_design_results.stages[2].fields[4]\n",
      "pipeline.stage_design_results.stages[2].stage_number\n",
      "pipeline.stage_design_results.stages[3].brief_stage_goal\n",
      "pipeline.stage_design_results.stages[3].prompt\n",
      "pipeline.stage_design_results.stages[3].user_tags[0]\n",
      "pipeline.stage_design_results.stages[3].stage_name\n",
      "pipeline.stage_design_results.stages[3].entry_condition\n",
      "pipeline.stage_design_results.stages[3].fields[0]\n",
      "pipeline.stage_design_results.stages[3].fields[1]\n",
      "pipeline.stage_design_results.stages[3].fields[2]\n",
      "pipeline.stage_design_results.stages[3].fields[3]\n",
      "pipeline.stage_design_results.stages[3].fields[4]\n",
      "pipeline.stage_design_results.stages[3].stage_number\n",
      "pipeline.intake_data.business_id\n",
      "pipeline.intake_data.kb_files[0]\n",
      "pipeline.intake_data.biz_name\n",
      "pipeline.intake_data.goal\n",
      "pipeline.intake_data.biz_info\n",
      "intake_completed\n",
      "field_tag_selector_agent_response\n",
      "stage_agent_creator_agent_response\n"
     ]
    }
   ],
   "source": [
    "def print_all_keys(obj, parent_key=''):\n",
    "    if isinstance(obj, dict):\n",
    "        for k, v in obj.items():\n",
    "            full_key = f\"{parent_key}.{k}\" if parent_key else k\n",
    "            print_all_keys(v, full_key)\n",
    "    elif isinstance(obj, list):\n",
    "        for idx, item in enumerate(obj):\n",
    "            full_key = f\"{parent_key}[{idx}]\"\n",
    "            print_all_keys(item, full_key)\n",
    "    else:\n",
    "        print(parent_key)\n",
    "\n",
    "print_all_keys(intake_state)\n"
   ]
  },
  {
   "cell_type": "code",
   "execution_count": 15,
   "id": "d20dafe7",
   "metadata": {},
   "outputs": [
    {
     "data": {
      "text/plain": [
       "dict_keys(['pipeline_assembler_agent', 'stage_designer_agent_response', 'intake_completed', 'field_tag_selector_agent_response', 'pipeline', 'stage_agent_creator_agent_response'])"
      ]
     },
     "execution_count": 15,
     "metadata": {},
     "output_type": "execute_result"
    }
   ],
   "source": [
    "intake_state.keys()"
   ]
  },
  {
   "cell_type": "code",
   "execution_count": 19,
   "id": "90f5088a",
   "metadata": {},
   "outputs": [],
   "source": [
    "# Prepar initial state for Omni Stage Agent\n",
    "ready_state = await build_ready_state(session_state=remote_session_state['state'],current_stage=1)"
   ]
  },
  {
   "cell_type": "code",
   "execution_count": 21,
   "id": "30284095",
   "metadata": {},
   "outputs": [
    {
     "data": {
      "text/plain": [
       "dict_keys(['intake_completed', 'uploaded_docs', 'rag_corpus', 'pipeline_completed', 'business_id', 'biz_name', 'biz_info', 'goal', 'kb_files', 'total_stages', 'stage_1_brief_stage_goal', 'stage_1_prompt', 'stage_1_user_tags', 'stage_1_stage_name', 'stage_1_entry_condition', 'stage_1_fields', 'stage_1_stage_number', 'stage_2_brief_stage_goal', 'stage_2_prompt', 'stage_2_user_tags', 'stage_2_stage_name', 'stage_2_entry_condition', 'stage_2_fields', 'stage_2_stage_number', 'stage_3_prompt', 'stage_3_brief_stage_goal', 'stage_3_user_tags', 'stage_3_stage_name', 'stage_3_entry_condition', 'stage_3_fields', 'stage_3_stage_number', 'stage_4_brief_stage_goal', 'stage_4_prompt', 'stage_4_user_tags', 'stage_4_stage_name', 'stage_4_entry_condition', 'stage_4_fields', 'stage_4_stage_number', 'current_stage', 'current_artifacts', 'current_stage_name', 'current_stage_brief_goal', 'current_stage_prompt', 'current_stage_fields', 'current_stage_user_tags', 'all_stages_names_and_descriptions_and_entry_conditions'])"
      ]
     },
     "execution_count": 21,
     "metadata": {},
     "output_type": "execute_result"
    }
   ],
   "source": [
    "ready_state.keys()"
   ]
  },
  {
   "cell_type": "code",
   "execution_count": 22,
   "id": "f4b54964",
   "metadata": {},
   "outputs": [
    {
     "name": "stdout",
     "output_type": "stream",
     "text": [
      "intake_completed\n",
      "uploaded_docs[0].gcs_uri\n",
      "uploaded_docs[0].filename\n",
      "rag_corpus\n",
      "pipeline_completed\n",
      "business_id\n",
      "biz_name\n",
      "biz_info\n",
      "goal\n",
      "kb_files[0]\n",
      "total_stages\n",
      "stage_1_brief_stage_goal\n",
      "stage_1_prompt\n",
      "stage_1_user_tags[0]\n",
      "stage_1_stage_name\n",
      "stage_1_entry_condition\n",
      "stage_1_fields[0]\n",
      "stage_1_fields[1]\n",
      "stage_1_fields[2]\n",
      "stage_1_fields[3]\n",
      "stage_1_fields[4]\n",
      "stage_1_fields[5]\n",
      "stage_1_stage_number\n",
      "stage_2_brief_stage_goal\n",
      "stage_2_prompt\n",
      "stage_2_user_tags[0]\n",
      "stage_2_stage_name\n",
      "stage_2_entry_condition\n",
      "stage_2_fields[0]\n",
      "stage_2_fields[1]\n",
      "stage_2_fields[2]\n",
      "stage_2_fields[3]\n",
      "stage_2_fields[4]\n",
      "stage_2_fields[5]\n",
      "stage_2_stage_number\n",
      "stage_3_prompt\n",
      "stage_3_brief_stage_goal\n",
      "stage_3_user_tags[0]\n",
      "stage_3_stage_name\n",
      "stage_3_entry_condition\n",
      "stage_3_fields[0]\n",
      "stage_3_fields[1]\n",
      "stage_3_fields[2]\n",
      "stage_3_fields[3]\n",
      "stage_3_fields[4]\n",
      "stage_3_stage_number\n",
      "stage_4_brief_stage_goal\n",
      "stage_4_prompt\n",
      "stage_4_user_tags[0]\n",
      "stage_4_stage_name\n",
      "stage_4_entry_condition\n",
      "stage_4_fields[0]\n",
      "stage_4_fields[1]\n",
      "stage_4_fields[2]\n",
      "stage_4_fields[3]\n",
      "stage_4_fields[4]\n",
      "stage_4_stage_number\n",
      "current_stage\n",
      "current_artifacts\n",
      "current_stage_name\n",
      "current_stage_brief_goal\n",
      "current_stage_prompt\n",
      "current_stage_fields[0]\n",
      "current_stage_fields[1]\n",
      "current_stage_fields[2]\n",
      "current_stage_fields[3]\n",
      "current_stage_fields[4]\n",
      "current_stage_fields[5]\n",
      "current_stage_user_tags[0]\n",
      "all_stages_names_and_descriptions_and_entry_conditions\n"
     ]
    }
   ],
   "source": [
    "print_all_keys(ready_state)"
   ]
  },
  {
   "cell_type": "code",
   "execution_count": null,
   "id": "2f614fdc",
   "metadata": {},
   "outputs": [],
   "source": [
    "# Initialize Omni Stage Agent session with final user/client\n",
    "final_remote_app = agent_engines.get(omni_stage_agent)\n",
    "\n",
    "u_id = f\"u_{uuid.uuid4().hex[:8]}\"\n",
    "print(f'Session ID: {u_id}')\n",
    "\n",
    "final_remote_session = final_remote_app.create_session(\n",
    "    user_id=u_id,\n",
    "    state=ready_state\n",
    "    )\n",
    "print(\"Session:\", final_remote_session[\"id\"])"
   ]
  },
  {
   "cell_type": "code",
   "execution_count": null,
   "id": "a5ed9619",
   "metadata": {},
   "outputs": [],
   "source": [
    "# Interact with Omni Stage Agent\n",
    "user_query_test = input('YOU: ')\n",
    "for event in final_remote_app.stream_query(\n",
    "    user_id= final_remote_session[\"userId\"],\n",
    "    session_id= final_remote_session[\"id\"],\n",
    "    message=user_query_test,\n",
    "):\n",
    "    print(event)"
   ]
  },
  {
   "cell_type": "code",
   "execution_count": null,
   "id": "ac847c3c",
   "metadata": {},
   "outputs": [],
   "source": [
    "# Get the latest session state (it may update with every interaction).\n",
    "current_session = final_remote_app.get_session(\n",
    "    user_id = final_remote_session[\"userId\"],\n",
    "    session_id = final_remote_session[\"id\"],)\n",
    "#current_session"
   ]
  },
  {
   "cell_type": "code",
   "execution_count": null,
   "id": "d8a3b3ab",
   "metadata": {},
   "outputs": [],
   "source": [
    "# Extract relevant data from the current session state.\n",
    "\n",
    "# The following fields (user_name to stage) are dynamic and will change with each user.\n",
    "# They are typically stored in the user database to track individual lead information.\n",
    "state = current_session.get('state', {})\n",
    "\n",
    "# Dynamic user data for user database\n",
    "user_name    = state.get(\"Name\", \"\")\n",
    "user_tag     = state.get(\"Type\", \"\")\n",
    "company      = state.get(\"Company\", \"\")\n",
    "website      = state.get(\"Website\", \"\")\n",
    "phone        = state.get(\"Phone\", \"\")\n",
    "email        = state.get(\"Email\", \"\")\n",
    "address      = state.get(\"Address\", \"\")\n",
    "requirements = state.get(\"Requirements\", \"\")\n",
    "notes        = state.get(\"Notes\", \"\")\n",
    "stage        = state.get(\"current_stage\", 1.0)\n",
    "\n",
    "# The following fields are static and define business-related context.\n",
    "# These are shared across all users for the same business and usually do not change.\n",
    "# Business Data\n",
    "biz_name    = state.get(\"biz_name\", \"\")\n",
    "biz_info    = state.get(\"biz_info\", \"\")\n",
    "goal        = state.get(\"goal\", \"\")\n",
    "business_id               = state.get(\"business_id\", \"\")\n",
    "\n",
    "# Pipeline-level flags, usually not personalized per user\n",
    "pipeline_completed        = state.get(\"pipeline_completed\", False)\n",
    "intake_completed          = state.get(\"intake_completed\", False)\n",
    "total_stages              = state.get(\"total_stages\", \"\")\n",
    "\n",
    "# Dynamically extract all stage definitions based on total_stages.\n",
    "# These are static definitions for each CRM stage.\n",
    "total_stages_for_funct = int(state.get(\"total_stages\", 0))\n",
    "stages = []\n",
    "\n",
    "for i in range(1, total_stages_for_funct + 1):\n",
    "    stage = {\n",
    "        \"stage_name\":         state.get(f\"stage_{i}_stage_name\", \"\"),\n",
    "        \"stage_number\":       state.get(f\"stage_{i}_stage_number\", \"\"),\n",
    "        \"entry_condition\":    state.get(f\"stage_{i}_entry_condition\", \"\"),\n",
    "        \"prompt\":             state.get(f\"stage_{i}_prompt\", \"\"),\n",
    "        \"brief_stage_goal\":   state.get(f\"stage_{i}_brief_stage_goal\", \"\"),\n",
    "        \"fields\":             state.get(f\"stage_{i}_fields\", []),\n",
    "        \"user_tags\":          state.get(f\"stage_{i}_user_tags\", []),\n",
    "    }\n",
    "    stages.append(stage)\n",
    "\n"
   ]
  },
  {
   "cell_type": "code",
   "execution_count": null,
   "id": "64e8baa3",
   "metadata": {},
   "outputs": [],
   "source": [
    "# Clean Cloud Resources\n",
    "remote_app.delete(force=True)\n",
    "final_remote_app.delete(force=True)"
   ]
  },
  {
   "cell_type": "code",
   "execution_count": null,
   "id": "e1391543",
   "metadata": {},
   "outputs": [],
   "source": []
  }
 ],
 "metadata": {
  "kernelspec": {
   "display_name": "Python (crm-env)",
   "language": "python",
   "name": "crm-env"
  },
  "language_info": {
   "codemirror_mode": {
    "name": "ipython",
    "version": 3
   },
   "file_extension": ".py",
   "mimetype": "text/x-python",
   "name": "python",
   "nbconvert_exporter": "python",
   "pygments_lexer": "ipython3",
   "version": "3.10.15"
  }
 },
 "nbformat": 4,
 "nbformat_minor": 5
}
